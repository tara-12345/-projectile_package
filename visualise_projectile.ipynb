{
 "cells": [
  {
   "cell_type": "code",
   "execution_count": 5,
   "id": "01326645-3f8b-40b9-bd32-cabafe5a67a4",
   "metadata": {
    "tags": []
   },
   "outputs": [],
   "source": [
    "from projectile_package.projectile import flying_mass\n",
    "from projectile_package.projectile_plot import plot_xy"
   ]
  },
  {
   "cell_type": "code",
   "execution_count": null,
   "id": "18d0ec0c-9a46-42d6-b9b7-aa288e2221e4",
   "metadata": {},
   "outputs": [],
   "source": [
    "t, x, y, vx, vy = flying_mass(10., 10., mass=1., k=0.035)"
   ]
  },
  {
   "cell_type": "code",
   "execution_count": 6,
   "id": "50098102-c83c-424f-bf3c-09e10077fdb3",
   "metadata": {
    "tags": []
   },
   "outputs": [
    {
     "ename": "NameError",
     "evalue": "name 'x' is not defined",
     "output_type": "error",
     "traceback": [
      "\u001b[0;31m---------------------------------------------------------------------------\u001b[0m",
      "\u001b[0;31mNameError\u001b[0m                                 Traceback (most recent call last)",
      "Cell \u001b[0;32mIn[6], line 1\u001b[0m\n\u001b[0;32m----> 1\u001b[0m plot_xy(x, y)\n",
      "\u001b[0;31mNameError\u001b[0m: name 'x' is not defined"
     ]
    }
   ],
   "source": [
    "plot_xy(x, y)"
   ]
  },
  {
   "cell_type": "code",
   "execution_count": null,
   "id": "0dccf51a-8afa-4ba1-93ed-fda43fa25c2b",
   "metadata": {},
   "outputs": [],
   "source": []
  }
 ],
 "metadata": {
  "kernelspec": {
   "display_name": "Python 3 (ipykernel)",
   "language": "python",
   "name": "python3"
  },
  "language_info": {
   "codemirror_mode": {
    "name": "ipython",
    "version": 3
   },
   "file_extension": ".py",
   "mimetype": "text/x-python",
   "name": "python",
   "nbconvert_exporter": "python",
   "pygments_lexer": "ipython3",
   "version": "3.11.5"
  }
 },
 "nbformat": 4,
 "nbformat_minor": 5
}
